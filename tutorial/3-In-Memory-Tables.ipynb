{
 "cells": [
  {
   "cell_type": "markdown",
   "metadata": {},
   "source": [
    "# Querying tables"
   ]
  },
  {
   "cell_type": "markdown",
   "metadata": {},
   "source": [
    "> Objectives:\n",
    "> * Compare queries of tabular data for **in-memory** containers\n",
    "> * Compare sizes and times for those"
   ]
  },
  {
   "cell_type": "code",
   "execution_count": 1,
   "metadata": {
    "collapsed": false
   },
   "outputs": [
    {
     "name": "stdout",
     "output_type": "stream",
     "text": [
      "In [1] used 0.000 MiB RAM in 0.001s, peaked 0.000 MiB above current, total RAM usage 43.219 MiB\n"
     ]
    }
   ],
   "source": [
    "if 'MemWatcher' not in dir():\n",
    "    from ipython_memwatcher import MemWatcher\n",
    "    mw = MemWatcher()\n",
    "    mw.start_watching_memory()"
   ]
  },
  {
   "cell_type": "code",
   "execution_count": 2,
   "metadata": {
    "collapsed": false
   },
   "outputs": [
    {
     "name": "stdout",
     "output_type": "stream",
     "text": [
      "In [2] used 0.039 MiB RAM in 0.001s, peaked 0.000 MiB above current, total RAM usage 43.258 MiB\n"
     ]
    }
   ],
   "source": [
    "import os\n",
    "dset = 'movielens-1m'\n",
    "fdata = os.path.join(dset, 'ratings.dat.gz')\n",
    "fitem = os.path.join(dset, 'movies.dat')"
   ]
  },
  {
   "cell_type": "code",
   "execution_count": 3,
   "metadata": {
    "collapsed": false
   },
   "outputs": [
    {
     "name": "stdout",
     "output_type": "stream",
     "text": [
      "In [3] used 70.340 MiB RAM in 0.446s, peaked 8.180 MiB above current, total RAM usage 113.598 MiB\n"
     ]
    }
   ],
   "source": [
    "import pandas as pd\n",
    "# pass in column names for each CSV\n",
    "r_cols = ['user_id', 'movie_id', 'rating', 'unix_timestamp']\n",
    "ratings = pd.read_csv(fdata, sep=';', names=r_cols, compression='gzip')\n",
    "\n",
    "m_cols = ['movie_id', 'title', 'genres']\n",
    "movies = pd.read_csv(fitem, sep=';', names=m_cols,\n",
    "                     dtype={'title': object, 'genres': object})"
   ]
  },
  {
   "cell_type": "code",
   "execution_count": 4,
   "metadata": {
    "collapsed": false
   },
   "outputs": [
    {
     "data": {
      "text/plain": [
       "movie_id     int64\n",
       "title       object\n",
       "genres      object\n",
       "dtype: object"
      ]
     },
     "execution_count": 4,
     "metadata": {},
     "output_type": "execute_result"
    },
    {
     "name": "stdout",
     "output_type": "stream",
     "text": [
      "In [4] used 0.203 MiB RAM in 0.008s, peaked 0.000 MiB above current, total RAM usage 113.801 MiB\n"
     ]
    }
   ],
   "source": [
    "movies.dtypes"
   ]
  },
  {
   "cell_type": "code",
   "execution_count": 5,
   "metadata": {
    "collapsed": false
   },
   "outputs": [
    {
     "name": "stdout",
     "output_type": "stream",
     "text": [
      "In [5] used 54.793 MiB RAM in 0.070s, peaked 23.266 MiB above current, total RAM usage 168.594 MiB\n"
     ]
    }
   ],
   "source": [
    "lens = pd.merge(movies, ratings)"
   ]
  },
  {
   "cell_type": "code",
   "execution_count": 6,
   "metadata": {
    "collapsed": false
   },
   "outputs": [
    {
     "data": {
      "text/plain": [
       "54.79296875"
      ]
     },
     "execution_count": 6,
     "metadata": {},
     "output_type": "execute_result"
    },
    {
     "name": "stdout",
     "output_type": "stream",
     "text": [
      "In [6] used 0.082 MiB RAM in 0.002s, peaked 0.000 MiB above current, total RAM usage 168.676 MiB\n"
     ]
    }
   ],
   "source": [
    "size_pandas = mw.measurements.memory_delta\n",
    "size_pandas"
   ]
  },
  {
   "cell_type": "code",
   "execution_count": 7,
   "metadata": {
    "collapsed": false
   },
   "outputs": [
    {
     "name": "stdout",
     "output_type": "stream",
     "text": [
      "Index             8001672\n",
      "movie_id          8001672\n",
      "title             8001672\n",
      "genres            8001672\n",
      "user_id           8001672\n",
      "rating            8001672\n",
      "unix_timestamp    8001672\n",
      "dtype: int64\n",
      "In [7] used 0.020 MiB RAM in 0.002s, peaked 0.000 MiB above current, total RAM usage 168.695 MiB\n"
     ]
    }
   ],
   "source": [
    "# pandas also comes with its own tool for getting memory usage\n",
    "print(lens.memory_usage())"
   ]
  },
  {
   "cell_type": "markdown",
   "metadata": {},
   "source": [
    "### Exercise\n",
    "\n",
    "1) Why do you think that the size is the same for every column in the dataframe?\n",
    "\n",
    "*Hint:* pandas stores the string columns in NumPy containers with 'object' dtype.\n",
    "\n",
    "2) Provided how the `lens` DataFrame looks like:"
   ]
  },
  {
   "cell_type": "code",
   "execution_count": 8,
   "metadata": {
    "collapsed": false
   },
   "outputs": [
    {
     "data": {
      "text/html": [
       "<div>\n",
       "<table border=\"1\" class=\"dataframe\">\n",
       "  <thead>\n",
       "    <tr style=\"text-align: right;\">\n",
       "      <th></th>\n",
       "      <th>movie_id</th>\n",
       "      <th>title</th>\n",
       "      <th>genres</th>\n",
       "      <th>user_id</th>\n",
       "      <th>rating</th>\n",
       "      <th>unix_timestamp</th>\n",
       "    </tr>\n",
       "  </thead>\n",
       "  <tbody>\n",
       "    <tr>\n",
       "      <th>0</th>\n",
       "      <td>1</td>\n",
       "      <td>Toy Story (1995)</td>\n",
       "      <td>Animation|Children's|Comedy</td>\n",
       "      <td>1</td>\n",
       "      <td>5</td>\n",
       "      <td>978824268</td>\n",
       "    </tr>\n",
       "    <tr>\n",
       "      <th>1</th>\n",
       "      <td>1</td>\n",
       "      <td>Toy Story (1995)</td>\n",
       "      <td>Animation|Children's|Comedy</td>\n",
       "      <td>6</td>\n",
       "      <td>4</td>\n",
       "      <td>978237008</td>\n",
       "    </tr>\n",
       "    <tr>\n",
       "      <th>2</th>\n",
       "      <td>1</td>\n",
       "      <td>Toy Story (1995)</td>\n",
       "      <td>Animation|Children's|Comedy</td>\n",
       "      <td>8</td>\n",
       "      <td>4</td>\n",
       "      <td>978233496</td>\n",
       "    </tr>\n",
       "    <tr>\n",
       "      <th>3</th>\n",
       "      <td>1</td>\n",
       "      <td>Toy Story (1995)</td>\n",
       "      <td>Animation|Children's|Comedy</td>\n",
       "      <td>9</td>\n",
       "      <td>5</td>\n",
       "      <td>978225952</td>\n",
       "    </tr>\n",
       "    <tr>\n",
       "      <th>4</th>\n",
       "      <td>1</td>\n",
       "      <td>Toy Story (1995)</td>\n",
       "      <td>Animation|Children's|Comedy</td>\n",
       "      <td>10</td>\n",
       "      <td>5</td>\n",
       "      <td>978226474</td>\n",
       "    </tr>\n",
       "  </tbody>\n",
       "</table>\n",
       "</div>"
      ],
      "text/plain": [
       "   movie_id             title                       genres  user_id  rating  \\\n",
       "0         1  Toy Story (1995)  Animation|Children's|Comedy        1       5   \n",
       "1         1  Toy Story (1995)  Animation|Children's|Comedy        6       4   \n",
       "2         1  Toy Story (1995)  Animation|Children's|Comedy        8       4   \n",
       "3         1  Toy Story (1995)  Animation|Children's|Comedy        9       5   \n",
       "4         1  Toy Story (1995)  Animation|Children's|Comedy       10       5   \n",
       "\n",
       "   unix_timestamp  \n",
       "0       978824268  \n",
       "1       978237008  \n",
       "2       978233496  \n",
       "3       978225952  \n",
       "4       978226474  "
      ]
     },
     "execution_count": 8,
     "metadata": {},
     "output_type": "execute_result"
    },
    {
     "name": "stdout",
     "output_type": "stream",
     "text": [
      "In [8] used 0.000 MiB RAM in 0.007s, peaked 0.000 MiB above current, total RAM usage 168.695 MiB\n"
     ]
    }
   ],
   "source": [
    "lens.head()"
   ]
  },
  {
   "cell_type": "code",
   "execution_count": 9,
   "metadata": {
    "collapsed": false
   },
   "outputs": [
    {
     "name": "stdout",
     "output_type": "stream",
     "text": [
      "<class 'pandas.core.frame.DataFrame'>\n",
      "Int64Index: 1000209 entries, 0 to 1000208\n",
      "Data columns (total 6 columns):\n",
      "movie_id          1000209 non-null int64\n",
      "title             1000209 non-null object\n",
      "genres            1000209 non-null object\n",
      "user_id           1000209 non-null int64\n",
      "rating            1000209 non-null int64\n",
      "unix_timestamp    1000209 non-null int64\n",
      "dtypes: int64(4), object(2)\n",
      "memory usage: 53.4+ MB\n",
      "In [9] used 24.594 MiB RAM in 0.116s, peaked 0.000 MiB above current, total RAM usage 193.289 MiB\n"
     ]
    }
   ],
   "source": [
    "lens.info()"
   ]
  },
  {
   "cell_type": "markdown",
   "metadata": {},
   "source": [
    "Do you think this is all the memory that the DataFrame tables?"
   ]
  },
  {
   "cell_type": "markdown",
   "metadata": {
    "collapsed": true
   },
   "source": [
    "### Solution"
   ]
  },
  {
   "cell_type": "code",
   "execution_count": 10,
   "metadata": {
    "collapsed": false
   },
   "outputs": [
    {
     "name": "stdout",
     "output_type": "stream",
     "text": [
      "Index              8001672\n",
      "movie_id           8001672\n",
      "title             80347206\n",
      "genres            71665151\n",
      "user_id            8001672\n",
      "rating             8001672\n",
      "unix_timestamp     8001672\n",
      "dtype: int64\n",
      "In [10] used 0.000 MiB RAM in 0.130s, peaked 0.000 MiB above current, total RAM usage 193.289 MiB\n"
     ]
    }
   ],
   "source": [
    "# Use deep=True for including the size of the object types\n",
    "print(lens.memory_usage(deep=True))"
   ]
  },
  {
   "cell_type": "code",
   "execution_count": 11,
   "metadata": {
    "collapsed": false
   },
   "outputs": [
    {
     "data": {
      "text/plain": [
       "183.12522602081299"
      ]
     },
     "execution_count": 11,
     "metadata": {},
     "output_type": "execute_result"
    },
    {
     "name": "stdout",
     "output_type": "stream",
     "text": [
      "In [11] used 0.000 MiB RAM in 0.128s, peaked 0.000 MiB above current, total RAM usage 193.289 MiB\n"
     ]
    }
   ],
   "source": [
    "# For a more realistic memory usage, we are going to use deep=True\n",
    "size_pandas2 = lens.memory_usage(deep=True).sum() / 2**20.\n",
    "size_pandas2"
   ]
  },
  {
   "cell_type": "markdown",
   "metadata": {},
   "source": [
    "## Querying a pandas DataFrame"
   ]
  },
  {
   "cell_type": "code",
   "execution_count": 12,
   "metadata": {
    "collapsed": false
   },
   "outputs": [
    {
     "name": "stdout",
     "output_type": "stream",
     "text": [
      "10 loops, best of 3: 33.1 ms per loop\n"
     ]
    },
    {
     "data": {
      "text/plain": [
       "5121      75\n",
       "5164    3842\n",
       "5187    6031\n",
       "Name: user_id, dtype: int64"
      ]
     },
     "execution_count": 12,
     "metadata": {},
     "output_type": "execute_result"
    },
    {
     "name": "stdout",
     "output_type": "stream",
     "text": [
      "In [12] used 0.328 MiB RAM in 1.405s, peaked 0.000 MiB above current, total RAM usage 193.617 MiB\n"
     ]
    }
   ],
   "source": [
    "# Let's do a typical query in pandas and see how fast it can be\n",
    "t = %timeit -o lens.query(\"(title == 'Tom and Huck (1995)') & (rating == 5)\")['user_id']\n",
    "result = lens.query(\"(title == 'Tom and Huck (1995)') & (rating == 5)\")['user_id']\n",
    "result"
   ]
  },
  {
   "cell_type": "code",
   "execution_count": 13,
   "metadata": {
    "collapsed": false
   },
   "outputs": [
    {
     "name": "stdout",
     "output_type": "stream",
     "text": [
      "In [13] used 0.000 MiB RAM in 0.001s, peaked 0.000 MiB above current, total RAM usage 193.617 MiB\n"
     ]
    }
   ],
   "source": [
    "# Store it for future reference\n",
    "qtime_pandas = t.best"
   ]
  },
  {
   "cell_type": "markdown",
   "metadata": {},
   "source": [
    "## Use a compressed in-memory container via `bcolz`"
   ]
  },
  {
   "cell_type": "code",
   "execution_count": 14,
   "metadata": {
    "collapsed": false,
    "scrolled": true
   },
   "outputs": [
    {
     "name": "stdout",
     "output_type": "stream",
     "text": [
      "-=-=-=-=-=-=-=-=-=-=-=-=-=-=-=-=-=-=-=-=-=-=-=-=-=-=-=-=-=-=-=-=-=-=-=-=-=-=\n",
      "bcolz version:     1.1.1.dev16\n",
      "bcolz git info:    b'1.1.0-16-g6a40395'\n",
      "NumPy version:     1.11.1\n",
      "Blosc version:     1.9.3 ($Date:: 2016-07-06 #$)\n",
      "Blosc compressors: ['blosclz', 'lz4', 'lz4hc', 'snappy', 'zlib']\n",
      "Numexpr version:   2.6.1\n",
      "Dask version:      0.11.0\n",
      "Python version:    3.5.2 |Continuum Analytics, Inc.| (default, Jul  2 2016, 17:53:06) \n",
      "[GCC 4.4.7 20120313 (Red Hat 4.4.7-1)]\n",
      "Platform:          linux-x86_64\n",
      "Byte-ordering:     little\n",
      "Detected cores:    8\n",
      "-=-=-=-=-=-=-=-=-=-=-=-=-=-=-=-=-=-=-=-=-=-=-=-=-=-=-=-=-=-=-=-=-=-=-=-=-=-=\n"
     ]
    },
    {
     "data": {
      "text/plain": [
       "8"
      ]
     },
     "execution_count": 14,
     "metadata": {},
     "output_type": "execute_result"
    },
    {
     "name": "stdout",
     "output_type": "stream",
     "text": [
      "In [14] used 7.664 MiB RAM in 0.083s, peaked 0.000 MiB above current, total RAM usage 201.281 MiB\n"
     ]
    }
   ],
   "source": [
    "import bcolz\n",
    "bcolz.print_versions()\n",
    "bcolz.defaults.cparams['cname'] = 'blosclz'\n",
    "bcolz.defaults.cparams['clevel'] = 5\n",
    "bcolz.defaults.cparams['shuffle'] = bcolz.SHUFFLE  # try with NOSHUFFLE and BITSHUFFLE as well\n",
    "bcolz.set_nthreads(1)"
   ]
  },
  {
   "cell_type": "code",
   "execution_count": 15,
   "metadata": {
    "collapsed": false
   },
   "outputs": [
    {
     "name": "stdout",
     "output_type": "stream",
     "text": [
      "In [15] used 0.820 MiB RAM in 0.369s, peaked 312.809 MiB above current, total RAM usage 202.102 MiB\n"
     ]
    }
   ],
   "source": [
    "zlens = bcolz.ctable.fromdataframe(lens)"
   ]
  },
  {
   "cell_type": "code",
   "execution_count": 16,
   "metadata": {
    "collapsed": false
   },
   "outputs": [
    {
     "data": {
      "text/plain": [
       "ctable((1000209,), [('movie_id', '<i8'), ('title', '<U82'), ('genres', '<U47'), ('user_id', '<i8'), ('rating', '<i8'), ('unix_timestamp', '<i8')])\n",
       "  nbytes: 522.72 MB; cbytes: 12.20 MB; ratio: 42.85\n",
       "  cparams := cparams(clevel=5, shuffle=1, cname='blosclz', quantize=0)\n",
       "[(1, 'Toy Story (1995)', \"Animation|Children's|Comedy\", 1, 5, 978824268)\n",
       " (1, 'Toy Story (1995)', \"Animation|Children's|Comedy\", 6, 4, 978237008)\n",
       " (1, 'Toy Story (1995)', \"Animation|Children's|Comedy\", 8, 4, 978233496)\n",
       " ...,\n",
       " (3952, 'Contender, The (2000)', 'Drama|Thriller', 5837, 4, 1011902656)\n",
       " (3952, 'Contender, The (2000)', 'Drama|Thriller', 5927, 1, 979852537)\n",
       " (3952, 'Contender, The (2000)', 'Drama|Thriller', 5998, 4, 1001781044)]"
      ]
     },
     "execution_count": 16,
     "metadata": {},
     "output_type": "execute_result"
    },
    {
     "name": "stdout",
     "output_type": "stream",
     "text": [
      "In [16] used 0.000 MiB RAM in 0.003s, peaked 0.000 MiB above current, total RAM usage 202.102 MiB\n"
     ]
    }
   ],
   "source": [
    "zlens"
   ]
  },
  {
   "cell_type": "markdown",
   "metadata": {},
   "source": [
    "We can see that the compression ration of this bcolz container is ~40x (!)."
   ]
  },
  {
   "cell_type": "code",
   "execution_count": 17,
   "metadata": {
    "collapsed": false
   },
   "outputs": [
    {
     "data": {
      "text/plain": [
       "0.0"
      ]
     },
     "execution_count": 17,
     "metadata": {},
     "output_type": "execute_result"
    },
    {
     "name": "stdout",
     "output_type": "stream",
     "text": [
      "In [17] used 0.023 MiB RAM in 0.002s, peaked 0.000 MiB above current, total RAM usage 202.125 MiB\n"
     ]
    }
   ],
   "source": [
    "size_bcolz = mw.measurements.memory_delta\n",
    "size_bcolz"
   ]
  },
  {
   "cell_type": "markdown",
   "metadata": {},
   "source": [
    "Since the space reported by memory_memwatcher is to little, let's use the one reported by the ctable container itself:"
   ]
  },
  {
   "cell_type": "code",
   "execution_count": 18,
   "metadata": {
    "collapsed": false
   },
   "outputs": [
    {
     "name": "stdout",
     "output_type": "stream",
     "text": [
      "In [18] used 0.000 MiB RAM in 0.001s, peaked 0.000 MiB above current, total RAM usage 202.125 MiB\n"
     ]
    }
   ],
   "source": [
    "size_bcolz2 = zlens.cbytes // 2 ** 20."
   ]
  },
  {
   "cell_type": "code",
   "execution_count": 19,
   "metadata": {
    "collapsed": false
   },
   "outputs": [
    {
     "data": {
      "text/plain": [
       "15.260435501734415"
      ]
     },
     "execution_count": 19,
     "metadata": {},
     "output_type": "execute_result"
    },
    {
     "name": "stdout",
     "output_type": "stream",
     "text": [
      "In [19] used 0.004 MiB RAM in 0.002s, peaked 0.000 MiB above current, total RAM usage 202.129 MiB\n"
     ]
    }
   ],
   "source": [
    "size_pandas2 / size_bcolz2"
   ]
  },
  {
   "cell_type": "markdown",
   "metadata": {},
   "source": [
    "Here we see that the RAM usage of this ctable is ~20x smaller."
   ]
  },
  {
   "cell_type": "markdown",
   "metadata": {},
   "source": [
    "## Querying a bcolz ctable"
   ]
  },
  {
   "cell_type": "code",
   "execution_count": 20,
   "metadata": {
    "collapsed": false
   },
   "outputs": [
    {
     "name": "stdout",
     "output_type": "stream",
     "text": [
      "In [20] used 78.223 MiB RAM in 0.169s, peaked 0.000 MiB above current, total RAM usage 280.352 MiB\n"
     ]
    }
   ],
   "source": [
    "# Workaround to use bytes instead of Unicode (not supported yet in numexpr queries)\n",
    "title = zlens['title'][:].astype('S82')\n",
    "zlens.delcol('title')\n",
    "zlens.addcol(title, 'title')"
   ]
  },
  {
   "cell_type": "code",
   "execution_count": 21,
   "metadata": {
    "collapsed": false
   },
   "outputs": [
    {
     "name": "stdout",
     "output_type": "stream",
     "text": [
      "In [21] used 44.836 MiB RAM in 0.126s, peaked 0.000 MiB above current, total RAM usage 325.188 MiB\n"
     ]
    }
   ],
   "source": [
    "# Workaround to use bytes instead of Unicode (not supported yet in numexpr queries)\n",
    "genre = zlens['genres'][:].astype('S47')\n",
    "zlens.delcol('genres')\n",
    "zlens.addcol(genre, 'genres')"
   ]
  },
  {
   "cell_type": "code",
   "execution_count": 22,
   "metadata": {
    "collapsed": false
   },
   "outputs": [
    {
     "name": "stdout",
     "output_type": "stream",
     "text": [
      "100 loops, best of 3: 15.3 ms per loop\n",
      "In [22] used 2.750 MiB RAM in 6.327s, peaked 0.000 MiB above current, total RAM usage 327.938 MiB\n"
     ]
    }
   ],
   "source": [
    "# Querying a bcolz dataset\n",
    "resultz = [(r.nrow__, r.user_id) for r in zlens.where(\"(title == b'Tom and Huck (1995)') & (rating == 5)\", outcols=['nrow__', 'user_id'])]\n",
    "t = %timeit -o [(r.nrow__, r.user_id) for r in zlens.where(\"(title == b'Tom and Huck (1995)') & (rating == 5)\", outcols=['nrow__', 'user_id'])]"
   ]
  },
  {
   "cell_type": "code",
   "execution_count": 23,
   "metadata": {
    "collapsed": false
   },
   "outputs": [
    {
     "name": "stdout",
     "output_type": "stream",
     "text": [
      "In [23] used 0.000 MiB RAM in 0.001s, peaked 0.000 MiB above current, total RAM usage 327.938 MiB\n"
     ]
    }
   ],
   "source": [
    "qtime_bcolz = t.best"
   ]
  },
  {
   "cell_type": "code",
   "execution_count": 24,
   "metadata": {
    "collapsed": false
   },
   "outputs": [
    {
     "data": {
      "text/plain": [
       "2.1622613272029616"
      ]
     },
     "execution_count": 24,
     "metadata": {},
     "output_type": "execute_result"
    },
    {
     "name": "stdout",
     "output_type": "stream",
     "text": [
      "In [24] used 0.016 MiB RAM in 0.001s, peaked 0.000 MiB above current, total RAM usage 327.953 MiB\n"
     ]
    }
   ],
   "source": [
    "qtime_pandas / qtime_bcolz"
   ]
  },
  {
   "cell_type": "markdown",
   "metadata": {},
   "source": [
    "We see that by using a compressed bcolz container, it provides better query times than pandas."
   ]
  },
  {
   "cell_type": "code",
   "execution_count": 25,
   "metadata": {
    "collapsed": false
   },
   "outputs": [
    {
     "name": "stdout",
     "output_type": "stream",
     "text": [
      "results with pandas Dataframe: 5121      75\n",
      "5164    3842\n",
      "5187    6031\n",
      "Name: user_id, dtype: int64\n",
      "results with bcolz ctable: [(5121, 75), (5164, 3842), (5187, 6031)]\n",
      "In [25] used 0.000 MiB RAM in 0.001s, peaked 0.000 MiB above current, total RAM usage 327.953 MiB\n"
     ]
    }
   ],
   "source": [
    "# Sanity check (always check for your results!)\n",
    "print(\"results with pandas Dataframe:\", result)\n",
    "print(\"results with bcolz ctable:\", resultz)"
   ]
  },
  {
   "cell_type": "markdown",
   "metadata": {},
   "source": [
    "## Use a *uncompressed* in-memory container via `bcolz`"
   ]
  },
  {
   "cell_type": "markdown",
   "metadata": {},
   "source": [
    "So, what happens when we use an uncompressed container in bcolz?  We do expect better speed?  If so, how much?  Let's measure:"
   ]
  },
  {
   "cell_type": "code",
   "execution_count": 26,
   "metadata": {
    "collapsed": false,
    "scrolled": true
   },
   "outputs": [
    {
     "name": "stdout",
     "output_type": "stream",
     "text": [
      "In [26] used 0.016 MiB RAM in 0.001s, peaked 0.000 MiB above current, total RAM usage 327.969 MiB\n"
     ]
    }
   ],
   "source": [
    "bcolz.defaults.cparams['clevel'] = 0"
   ]
  },
  {
   "cell_type": "code",
   "execution_count": 27,
   "metadata": {
    "collapsed": false
   },
   "outputs": [
    {
     "data": {
      "text/plain": [
       "ctable((1000209,), [('movie_id', '<i8'), ('title', '<U82'), ('genres', '<U47'), ('user_id', '<i8'), ('rating', '<i8'), ('unix_timestamp', '<i8')])\n",
       "  nbytes: 522.72 MB; cbytes: 523.91 MB; ratio: 1.00\n",
       "  cparams := cparams(clevel=0, shuffle=1, cname='blosclz', quantize=0)\n",
       "[(1, 'Toy Story (1995)', \"Animation|Children's|Comedy\", 1, 5, 978824268)\n",
       " (1, 'Toy Story (1995)', \"Animation|Children's|Comedy\", 6, 4, 978237008)\n",
       " (1, 'Toy Story (1995)', \"Animation|Children's|Comedy\", 8, 4, 978233496)\n",
       " ...,\n",
       " (3952, 'Contender, The (2000)', 'Drama|Thriller', 5837, 4, 1011902656)\n",
       " (3952, 'Contender, The (2000)', 'Drama|Thriller', 5927, 1, 979852537)\n",
       " (3952, 'Contender, The (2000)', 'Drama|Thriller', 5998, 4, 1001781044)]"
      ]
     },
     "execution_count": 27,
     "metadata": {},
     "output_type": "execute_result"
    },
    {
     "name": "stdout",
     "output_type": "stream",
     "text": [
      "In [27] used 1000.375 MiB RAM in 0.459s, peaked 0.000 MiB above current, total RAM usage 1328.344 MiB\n"
     ]
    }
   ],
   "source": [
    "uzlens = bcolz.ctable.fromdataframe(lens)\n",
    "uzlens"
   ]
  },
  {
   "cell_type": "code",
   "execution_count": 28,
   "metadata": {
    "collapsed": false
   },
   "outputs": [
    {
     "data": {
      "text/plain": [
       "1000.375"
      ]
     },
     "execution_count": 28,
     "metadata": {},
     "output_type": "execute_result"
    },
    {
     "name": "stdout",
     "output_type": "stream",
     "text": [
      "In [28] used 0.000 MiB RAM in 0.002s, peaked 0.000 MiB above current, total RAM usage 1328.344 MiB\n"
     ]
    }
   ],
   "source": [
    "size_ubcolz = mw.measurements.memory_delta\n",
    "size_ubcolz"
   ]
  },
  {
   "cell_type": "code",
   "execution_count": 29,
   "metadata": {
    "collapsed": false
   },
   "outputs": [
    {
     "data": {
      "text/plain": [
       "523.9061889648438"
      ]
     },
     "execution_count": 29,
     "metadata": {},
     "output_type": "execute_result"
    },
    {
     "name": "stdout",
     "output_type": "stream",
     "text": [
      "In [29] used 0.000 MiB RAM in 0.002s, peaked 0.000 MiB above current, total RAM usage 1328.344 MiB\n"
     ]
    }
   ],
   "source": [
    "size_ubcolz2 = uzlens.cbytes / 2**20.\n",
    "size_ubcolz2"
   ]
  },
  {
   "cell_type": "code",
   "execution_count": 30,
   "metadata": {
    "collapsed": false
   },
   "outputs": [
    {
     "data": {
      "text/plain": [
       "0.34953819954415816"
      ]
     },
     "execution_count": 30,
     "metadata": {},
     "output_type": "execute_result"
    },
    {
     "name": "stdout",
     "output_type": "stream",
     "text": [
      "In [30] used 0.000 MiB RAM in 0.002s, peaked 0.000 MiB above current, total RAM usage 1328.344 MiB\n"
     ]
    }
   ],
   "source": [
    "size_pandas2 / size_ubcolz2"
   ]
  },
  {
   "cell_type": "markdown",
   "metadata": {},
   "source": [
    "We can see that the space taken by an uncompressed bcolz container is very close to a pandas one (but keep an eye on the reported memory usage by memory_watcher)."
   ]
  },
  {
   "cell_type": "code",
   "execution_count": 31,
   "metadata": {
    "collapsed": false
   },
   "outputs": [
    {
     "name": "stdout",
     "output_type": "stream",
     "text": [
      "In [31] used -78.109 MiB RAM in 0.030s, peaked 78.109 MiB above current, total RAM usage 1250.234 MiB\n"
     ]
    }
   ],
   "source": [
    "# Workaround to use bytes instead of Unicode (not supported yet in numexpr queries)\n",
    "title = zlens['title'][:].astype('S82')\n",
    "uzlens.delcol('title')\n",
    "uzlens.addcol(title, 'title')"
   ]
  },
  {
   "cell_type": "code",
   "execution_count": 32,
   "metadata": {
    "collapsed": false
   },
   "outputs": [
    {
     "name": "stdout",
     "output_type": "stream",
     "text": [
      "100 loops, best of 3: 14.5 ms per loop\n",
      "In [32] used 0.074 MiB RAM in 6.002s, peaked 0.000 MiB above current, total RAM usage 1250.309 MiB\n"
     ]
    }
   ],
   "source": [
    "# Querying a bcolz dataset\n",
    "resultz = [(r.nrow__, r.user_id) for r in uzlens.where(\"(title == b'Tom and Huck (1995)') & (rating == 5)\", outcols=['nrow__', 'user_id'])]\n",
    "t = %timeit -o [(r.nrow__, r.user_id) for r in uzlens.where(\"(title == b'Tom and Huck (1995)') & (rating == 5)\", outcols=['nrow__', 'user_id'])]"
   ]
  },
  {
   "cell_type": "code",
   "execution_count": 33,
   "metadata": {
    "collapsed": false
   },
   "outputs": [
    {
     "name": "stdout",
     "output_type": "stream",
     "text": [
      "In [33] used 0.000 MiB RAM in 0.001s, peaked 0.000 MiB above current, total RAM usage 1250.309 MiB\n"
     ]
    }
   ],
   "source": [
    "qtime_ubcolz = t.best"
   ]
  },
  {
   "cell_type": "code",
   "execution_count": 34,
   "metadata": {
    "collapsed": false
   },
   "outputs": [
    {
     "data": {
      "text/plain": [
       "2.2775967468401817"
      ]
     },
     "execution_count": 34,
     "metadata": {},
     "output_type": "execute_result"
    },
    {
     "name": "stdout",
     "output_type": "stream",
     "text": [
      "In [34] used 0.000 MiB RAM in 0.002s, peaked 0.000 MiB above current, total RAM usage 1250.309 MiB\n"
     ]
    }
   ],
   "source": [
    "qtime_pandas / qtime_ubcolz"
   ]
  },
  {
   "cell_type": "markdown",
   "metadata": {
    "collapsed": true
   },
   "source": [
    "## Using structured NumPy arrays"
   ]
  },
  {
   "cell_type": "code",
   "execution_count": 35,
   "metadata": {
    "collapsed": false
   },
   "outputs": [
    {
     "name": "stdout",
     "output_type": "stream",
     "text": [
      "In [35] used 0.035 MiB RAM in 0.101s, peaked 0.000 MiB above current, total RAM usage 1250.344 MiB\n"
     ]
    }
   ],
   "source": [
    "nalens = zlens[:]"
   ]
  },
  {
   "cell_type": "code",
   "execution_count": 36,
   "metadata": {
    "collapsed": false
   },
   "outputs": [
    {
     "data": {
      "text/plain": [
       "0.03515625"
      ]
     },
     "execution_count": 36,
     "metadata": {},
     "output_type": "execute_result"
    },
    {
     "name": "stdout",
     "output_type": "stream",
     "text": [
      "In [36] used 0.000 MiB RAM in 0.002s, peaked 0.000 MiB above current, total RAM usage 1250.344 MiB\n"
     ]
    }
   ],
   "source": [
    "size_numpy = mw.measurements.memory_delta\n",
    "size_numpy"
   ]
  },
  {
   "cell_type": "code",
   "execution_count": 37,
   "metadata": {
    "collapsed": false
   },
   "outputs": [
    {
     "data": {
      "text/plain": [
       "array([(1, 1, 5, 978824268, b'Toy Story (1995)', b\"Animation|Children's|Comedy\"),\n",
       "       (1, 6, 4, 978237008, b'Toy Story (1995)', b\"Animation|Children's|Comedy\"),\n",
       "       (1, 8, 4, 978233496, b'Toy Story (1995)', b\"Animation|Children's|Comedy\"),\n",
       "       ...,\n",
       "       (3952, 5837, 4, 1011902656, b'Contender, The (2000)', b'Drama|Thriller'),\n",
       "       (3952, 5927, 1, 979852537, b'Contender, The (2000)', b'Drama|Thriller'),\n",
       "       (3952, 5998, 4, 1001781044, b'Contender, The (2000)', b'Drama|Thriller')], \n",
       "      dtype=[('movie_id', '<i8'), ('user_id', '<i8'), ('rating', '<i8'), ('unix_timestamp', '<i8'), ('title', 'S82'), ('genres', 'S47')])"
      ]
     },
     "execution_count": 37,
     "metadata": {},
     "output_type": "execute_result"
    },
    {
     "name": "stdout",
     "output_type": "stream",
     "text": [
      "In [37] used -0.004 MiB RAM in 0.002s, peaked 0.004 MiB above current, total RAM usage 1250.340 MiB\n"
     ]
    }
   ],
   "source": [
    "nalens"
   ]
  },
  {
   "cell_type": "code",
   "execution_count": 38,
   "metadata": {
    "collapsed": false
   },
   "outputs": [
    {
     "data": {
      "text/plain": [
       "153.574"
      ]
     },
     "execution_count": 38,
     "metadata": {},
     "output_type": "execute_result"
    },
    {
     "name": "stdout",
     "output_type": "stream",
     "text": [
      "In [38] used 0.000 MiB RAM in 0.002s, peaked 0.000 MiB above current, total RAM usage 1250.340 MiB\n"
     ]
    }
   ],
   "source": [
    "size_numpy2 = round((nalens.size * nalens.dtype.itemsize) / 2**20., 3)\n",
    "size_numpy2"
   ]
  },
  {
   "cell_type": "code",
   "execution_count": 39,
   "metadata": {
    "collapsed": false
   },
   "outputs": [
    {
     "data": {
      "text/plain": [
       "301.574"
      ]
     },
     "execution_count": 39,
     "metadata": {},
     "output_type": "execute_result"
    },
    {
     "name": "stdout",
     "output_type": "stream",
     "text": [
      "In [39] used 0.000 MiB RAM in 0.635s, peaked 0.000 MiB above current, total RAM usage 1250.340 MiB\n"
     ]
    }
   ],
   "source": [
    "# But, again, this does not account for 'O'bject dtypes, which are stored in its own storage area\n",
    "# So, let's take this into account\n",
    "import sys\n",
    "size_numpy3 = size_numpy2 + round(sum(sum(sys.getsizeof(o) for o in nalens[col]) for col in ('title', 'genres')) // 2**20., 3)\n",
    "size_numpy3"
   ]
  },
  {
   "cell_type": "code",
   "execution_count": 40,
   "metadata": {
    "collapsed": false
   },
   "outputs": [
    {
     "name": "stdout",
     "output_type": "stream",
     "text": [
      "100 loops, best of 3: 9.23 ms per loop\n"
     ]
    },
    {
     "data": {
      "text/plain": [
       "array([], \n",
       "      dtype=[('movie_id', '<i8'), ('user_id', '<i8'), ('rating', '<i8'), ('unix_timestamp', '<i8'), ('title', 'S82'), ('genres', 'S47')])"
      ]
     },
     "execution_count": 40,
     "metadata": {},
     "output_type": "execute_result"
    },
    {
     "name": "stdout",
     "output_type": "stream",
     "text": [
      "In [40] used 0.000 MiB RAM in 3.825s, peaked 0.000 MiB above current, total RAM usage 1250.340 MiB\n"
     ]
    }
   ],
   "source": [
    "resultna = nalens[(nalens['title'] == 'Tom and Huck (1995)') & (nalens['rating'] == 5)]\n",
    "t = %timeit -o nalens[(nalens['title'] == 'Tom and Huck (1995)') & (nalens['rating'] == 5)]\n",
    "resultna"
   ]
  },
  {
   "cell_type": "markdown",
   "metadata": {},
   "source": [
    "Again, NumPy works the fastest for in-memory data containers, while memory consumption is close to pandas (a hair less actually)."
   ]
  },
  {
   "cell_type": "code",
   "execution_count": 41,
   "metadata": {
    "collapsed": false
   },
   "outputs": [
    {
     "name": "stdout",
     "output_type": "stream",
     "text": [
      "In [41] used 0.000 MiB RAM in 0.000s, peaked 0.000 MiB above current, total RAM usage 1250.340 MiB\n"
     ]
    }
   ],
   "source": [
    "qtime_numpy = t.best"
   ]
  },
  {
   "cell_type": "markdown",
   "metadata": {},
   "source": [
    "## Performance comparsion"
   ]
  },
  {
   "cell_type": "code",
   "execution_count": 42,
   "metadata": {
    "collapsed": false,
    "scrolled": true
   },
   "outputs": [
    {
     "name": "stdout",
     "output_type": "stream",
     "text": [
      "In [42] used 4.043 MiB RAM in 0.069s, peaked 0.000 MiB above current, total RAM usage 1254.383 MiB\n"
     ]
    }
   ],
   "source": [
    "%matplotlib inline\n",
    "import matplotlib.pyplot as plt\n",
    "plt.style.use('ggplot')"
   ]
  },
  {
   "cell_type": "code",
   "execution_count": 43,
   "metadata": {
    "collapsed": false,
    "scrolled": false
   },
   "outputs": [
    {
     "data": {
      "text/plain": [
       "<matplotlib.axes._subplots.AxesSubplot at 0x7fe0d34ad198>"
      ]
     },
     "execution_count": 43,
     "metadata": {},
     "output_type": "execute_result"
    },
    {
     "data": {
      "image/png": "[encoded data removed]",
      "text/plain": [
       "<matplotlib.figure.Figure at 0x7fe0d34a4780>"
      ]
     },
     "metadata": {},
     "output_type": "display_data"
    },
    {
     "name": "stdout",
     "output_type": "stream",
     "text": [
      "In [43] used 5.508 MiB RAM in 0.186s, peaked 0.000 MiB above current, total RAM usage 1259.891 MiB\n"
     ]
    }
   ],
   "source": [
    "# Query times\n",
    "labels = [\"pandas\", \"compressed bcolz\", \"uncompressed bcolz\", \"numpy (recarray)\"]\n",
    "df = pd.DataFrame({'time (sec)': [qtime_pandas, qtime_bcolz, qtime_ubcolz, qtime_numpy]}, index=labels)\n",
    "df.plot(kind='barh', figsize=(12,5), fontsize=16, title=\"Query times for MovieLens 1m (in-memory)\")"
   ]
  },
  {
   "cell_type": "markdown",
   "metadata": {},
   "source": [
    "## Size comparison"
   ]
  },
  {
   "cell_type": "code",
   "execution_count": 44,
   "metadata": {
    "collapsed": false,
    "scrolled": false
   },
   "outputs": [
    {
     "data": {
      "text/plain": [
       "<matplotlib.axes._subplots.AxesSubplot at 0x7fe0d3000208>"
      ]
     },
     "execution_count": 44,
     "metadata": {},
     "output_type": "execute_result"
    },
    {
     "data": {
      "image/png": "[encoded data removed]",
      "text/plain": [
       "<matplotlib.figure.Figure at 0x7fe0d2f79048>"
      ]
     },
     "metadata": {},
     "output_type": "display_data"
    },
    {
     "name": "stdout",
     "output_type": "stream",
     "text": [
      "In [44] used 0.504 MiB RAM in 0.179s, peaked 0.000 MiB above current, total RAM usage 1260.395 MiB\n"
     ]
    }
   ],
   "source": [
    "# Container sizes\n",
    "df = pd.DataFrame({'size (MB)': [size_pandas2, size_bcolz2, size_ubcolz2, size_numpy3]}, index=labels)\n",
    "df.plot(kind='barh', figsize=(12,5), fontsize=16, title=\"Container sizes for MovieLens 1m\")"
   ]
  },
  {
   "cell_type": "markdown",
   "metadata": {},
   "source": [
    "## Rules of thumb for querying in-memory tabular datasets\n",
    "\n",
    "* Choose pure NumPy recarrays if you need the fastest speed\n",
    "* Choose bcolz ctables if you need to store lots of data in limited memory and not want to loose too much speed\n",
    "* Choose pandas if what you need is rich functionality on top of your containers (at the penalty of some speed)"
   ]
  }
 ],
 "metadata": {
  "anaconda-cloud": {},
  "kernelspec": {
   "display_name": "Python 3",
   "language": "python",
   "name": "python3"
  },
  "language_info": {
   "codemirror_mode": {
    "name": "ipython",
    "version": 3
   },
   "file_extension": ".py",
   "mimetype": "text/x-python",
   "name": "python",
   "nbconvert_exporter": "python",
   "pygments_lexer": "ipython3",
   "version": "3.5.2"
  }
 },
 "nbformat": 4,
 "nbformat_minor": 0
}
