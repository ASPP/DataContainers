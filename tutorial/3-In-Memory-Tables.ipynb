{
 "cells": [
  {
   "cell_type": "markdown",
   "metadata": {},
   "source": [
    "# Querying tables"
   ]
  },
  {
   "cell_type": "markdown",
   "metadata": {},
   "source": [
    "> Objectives:\n",
    "> * Compare queries of tabular data for **in-memory** containers\n",
    "> * Compare sizes and times for those"
   ]
  },
  {
   "cell_type": "code",
   "execution_count": 1,
   "metadata": {
    "collapsed": false
   },
   "outputs": [
    {
     "name": "stdout",
     "output_type": "stream",
     "text": [
      "In [1] used 0.000 MiB RAM in 0.001s, peaked 0.000 MiB above current, total RAM usage 41.574 MiB\n"
     ]
    }
   ],
   "source": [
    "from ipython_memwatcher import MemWatcher\n",
    "mw = MemWatcher()\n",
    "mw.start_watching_memory()"
   ]
  },
  {
   "cell_type": "code",
   "execution_count": 2,
   "metadata": {
    "collapsed": false
   },
   "outputs": [
    {
     "name": "stdout",
     "output_type": "stream",
     "text": [
      "In [2] used 2.000 MiB RAM in 0.001s, peaked 0.000 MiB above current, total RAM usage 43.574 MiB\n"
     ]
    }
   ],
   "source": [
    "import os\n",
    "dset = 'movielens-1m'\n",
    "fdata = os.path.join(dset, 'ratings.dat.gz')\n",
    "fitem = os.path.join(dset, 'movies.dat')"
   ]
  },
  {
   "cell_type": "code",
   "execution_count": 3,
   "metadata": {
    "collapsed": false
   },
   "outputs": [
    {
     "name": "stdout",
     "output_type": "stream",
     "text": [
      "In [3] used 70.023 MiB RAM in 0.444s, peaked 7.016 MiB above current, total RAM usage 113.598 MiB\n"
     ]
    }
   ],
   "source": [
    "import pandas as pd\n",
    "# pass in column names for each CSV\n",
    "r_cols = ['user_id', 'movie_id', 'rating', 'unix_timestamp']\n",
    "ratings = pd.read_csv(fdata, sep=';', names=r_cols, compression='gzip')\n",
    "\n",
    "m_cols = ['movie_id', 'title', 'genres']\n",
    "movies = pd.read_csv(fitem, sep=';', names=m_cols,\n",
    "                     dtype={'title': object, 'genres': object})"
   ]
  },
  {
   "cell_type": "code",
   "execution_count": 4,
   "metadata": {
    "collapsed": false
   },
   "outputs": [
    {
     "data": {
      "text/plain": [
       "movie_id     int64\n",
       "title       object\n",
       "genres      object\n",
       "dtype: object"
      ]
     },
     "execution_count": 4,
     "metadata": {},
     "output_type": "execute_result"
    },
    {
     "name": "stdout",
     "output_type": "stream",
     "text": [
      "In [4] used 0.449 MiB RAM in 0.007s, peaked 0.000 MiB above current, total RAM usage 114.047 MiB\n"
     ]
    }
   ],
   "source": [
    "movies.dtypes"
   ]
  },
  {
   "cell_type": "code",
   "execution_count": 5,
   "metadata": {
    "collapsed": false
   },
   "outputs": [
    {
     "name": "stdout",
     "output_type": "stream",
     "text": [
      "In [5] used 54.668 MiB RAM in 0.070s, peaked 23.266 MiB above current, total RAM usage 168.715 MiB\n"
     ]
    }
   ],
   "source": [
    "lens = pd.merge(movies, ratings)"
   ]
  },
  {
   "cell_type": "code",
   "execution_count": 6,
   "metadata": {
    "collapsed": false
   },
   "outputs": [
    {
     "data": {
      "text/plain": [
       "54.66796875"
      ]
     },
     "execution_count": 6,
     "metadata": {},
     "output_type": "execute_result"
    },
    {
     "name": "stdout",
     "output_type": "stream",
     "text": [
      "In [6] used 0.027 MiB RAM in 0.002s, peaked 0.000 MiB above current, total RAM usage 168.742 MiB\n"
     ]
    }
   ],
   "source": [
    "size_pandas = mw.measurements.memory_delta\n",
    "size_pandas"
   ]
  },
  {
   "cell_type": "code",
   "execution_count": 7,
   "metadata": {
    "collapsed": false
   },
   "outputs": [
    {
     "name": "stdout",
     "output_type": "stream",
     "text": [
      "Index             8001672\n",
      "movie_id          8001672\n",
      "title             8001672\n",
      "genres            8001672\n",
      "user_id           8001672\n",
      "rating            8001672\n",
      "unix_timestamp    8001672\n",
      "dtype: int64\n",
      "In [7] used 0.000 MiB RAM in 0.002s, peaked 0.000 MiB above current, total RAM usage 168.742 MiB\n"
     ]
    }
   ],
   "source": [
    "# pandas also comes with its own tool for getting memory usage\n",
    "print(lens.memory_usage())"
   ]
  },
  {
   "cell_type": "markdown",
   "metadata": {},
   "source": [
    "### Exercise\n",
    "\n",
    "1) Why do you think that the size is the same for every column in the dataframe?\n",
    "\n",
    "*Hint:* pandas stores the string columns in NumPy containers with 'object' dtype.\n",
    "\n",
    "2) Provided how the `lens` DataFrame looks like:"
   ]
  },
  {
   "cell_type": "code",
   "execution_count": 8,
   "metadata": {
    "collapsed": false
   },
   "outputs": [
    {
     "data": {
      "text/html": [
       "<div>\n",
       "<table border=\"1\" class=\"dataframe\">\n",
       "  <thead>\n",
       "    <tr style=\"text-align: right;\">\n",
       "      <th></th>\n",
       "      <th>movie_id</th>\n",
       "      <th>title</th>\n",
       "      <th>genres</th>\n",
       "      <th>user_id</th>\n",
       "      <th>rating</th>\n",
       "      <th>unix_timestamp</th>\n",
       "    </tr>\n",
       "  </thead>\n",
       "  <tbody>\n",
       "    <tr>\n",
       "      <th>0</th>\n",
       "      <td>1</td>\n",
       "      <td>Toy Story (1995)</td>\n",
       "      <td>Animation|Children's|Comedy</td>\n",
       "      <td>1</td>\n",
       "      <td>5</td>\n",
       "      <td>978824268</td>\n",
       "    </tr>\n",
       "    <tr>\n",
       "      <th>1</th>\n",
       "      <td>1</td>\n",
       "      <td>Toy Story (1995)</td>\n",
       "      <td>Animation|Children's|Comedy</td>\n",
       "      <td>6</td>\n",
       "      <td>4</td>\n",
       "      <td>978237008</td>\n",
       "    </tr>\n",
       "    <tr>\n",
       "      <th>2</th>\n",
       "      <td>1</td>\n",
       "      <td>Toy Story (1995)</td>\n",
       "      <td>Animation|Children's|Comedy</td>\n",
       "      <td>8</td>\n",
       "      <td>4</td>\n",
       "      <td>978233496</td>\n",
       "    </tr>\n",
       "    <tr>\n",
       "      <th>3</th>\n",
       "      <td>1</td>\n",
       "      <td>Toy Story (1995)</td>\n",
       "      <td>Animation|Children's|Comedy</td>\n",
       "      <td>9</td>\n",
       "      <td>5</td>\n",
       "      <td>978225952</td>\n",
       "    </tr>\n",
       "    <tr>\n",
       "      <th>4</th>\n",
       "      <td>1</td>\n",
       "      <td>Toy Story (1995)</td>\n",
       "      <td>Animation|Children's|Comedy</td>\n",
       "      <td>10</td>\n",
       "      <td>5</td>\n",
       "      <td>978226474</td>\n",
       "    </tr>\n",
       "  </tbody>\n",
       "</table>\n",
       "</div>"
      ],
      "text/plain": [
       "   movie_id             title                       genres  user_id  rating  \\\n",
       "0         1  Toy Story (1995)  Animation|Children's|Comedy        1       5   \n",
       "1         1  Toy Story (1995)  Animation|Children's|Comedy        6       4   \n",
       "2         1  Toy Story (1995)  Animation|Children's|Comedy        8       4   \n",
       "3         1  Toy Story (1995)  Animation|Children's|Comedy        9       5   \n",
       "4         1  Toy Story (1995)  Animation|Children's|Comedy       10       5   \n",
       "\n",
       "   unix_timestamp  \n",
       "0       978824268  \n",
       "1       978237008  \n",
       "2       978233496  \n",
       "3       978225952  \n",
       "4       978226474  "
      ]
     },
     "execution_count": 8,
     "metadata": {},
     "output_type": "execute_result"
    },
    {
     "name": "stdout",
     "output_type": "stream",
     "text": [
      "In [8] used 0.000 MiB RAM in 0.007s, peaked 0.000 MiB above current, total RAM usage 168.742 MiB\n"
     ]
    }
   ],
   "source": [
    "lens.head()"
   ]
  },
  {
   "cell_type": "code",
   "execution_count": 9,
   "metadata": {
    "collapsed": false
   },
   "outputs": [
    {
     "name": "stdout",
     "output_type": "stream",
     "text": [
      "<class 'pandas.core.frame.DataFrame'>\n",
      "Int64Index: 1000209 entries, 0 to 1000208\n",
      "Data columns (total 6 columns):\n",
      "movie_id          1000209 non-null int64\n",
      "title             1000209 non-null object\n",
      "genres            1000209 non-null object\n",
      "user_id           1000209 non-null int64\n",
      "rating            1000209 non-null int64\n",
      "unix_timestamp    1000209 non-null int64\n",
      "dtypes: int64(4), object(2)\n",
      "memory usage: 53.4+ MB\n",
      "In [9] used 24.570 MiB RAM in 0.117s, peaked 0.000 MiB above current, total RAM usage 193.312 MiB\n"
     ]
    }
   ],
   "source": [
    "lens.info()"
   ]
  },
  {
   "cell_type": "markdown",
   "metadata": {},
   "source": [
    "Do you think this is all the memory that the DataFrame tables?"
   ]
  },
  {
   "cell_type": "markdown",
   "metadata": {
    "collapsed": true
   },
   "source": [
    "### Solution"
   ]
  },
  {
   "cell_type": "code",
   "execution_count": 10,
   "metadata": {
    "collapsed": false
   },
   "outputs": [
    {
     "name": "stdout",
     "output_type": "stream",
     "text": [
      "Index              8001672\n",
      "movie_id           8001672\n",
      "title             80347206\n",
      "genres            71665151\n",
      "user_id            8001672\n",
      "rating             8001672\n",
      "unix_timestamp     8001672\n",
      "dtype: int64\n",
      "In [10] used 0.004 MiB RAM in 0.126s, peaked 0.000 MiB above current, total RAM usage 193.316 MiB\n"
     ]
    }
   ],
   "source": [
    "# Use deep=True for including the size of the object types\n",
    "print(lens.memory_usage(deep=True))"
   ]
  },
  {
   "cell_type": "code",
   "execution_count": 11,
   "metadata": {
    "collapsed": false
   },
   "outputs": [
    {
     "data": {
      "text/plain": [
       "183.12522602081299"
      ]
     },
     "execution_count": 11,
     "metadata": {},
     "output_type": "execute_result"
    },
    {
     "name": "stdout",
     "output_type": "stream",
     "text": [
      "In [11] used -1.953 MiB RAM in 0.125s, peaked 0.000 MiB above current, total RAM usage 191.363 MiB\n"
     ]
    }
   ],
   "source": [
    "# For a more realistic memory usage, we are going to use deep=True\n",
    "size_pandas2 = lens.memory_usage(deep=True).sum() / 2**20.\n",
    "size_pandas2"
   ]
  },
  {
   "cell_type": "markdown",
   "metadata": {},
   "source": [
    "## Querying a pandas DataFrame"
   ]
  },
  {
   "cell_type": "code",
   "execution_count": 12,
   "metadata": {
    "collapsed": false
   },
   "outputs": [
    {
     "name": "stdout",
     "output_type": "stream",
     "text": [
      "10 loops, best of 3: 33.1 ms per loop\n"
     ]
    },
    {
     "data": {
      "text/plain": [
       "5121      75\n",
       "5164    3842\n",
       "5187    6031\n",
       "Name: user_id, dtype: int64"
      ]
     },
     "execution_count": 12,
     "metadata": {},
     "output_type": "execute_result"
    },
    {
     "name": "stdout",
     "output_type": "stream",
     "text": [
      "In [12] used 0.500 MiB RAM in 1.401s, peaked 0.000 MiB above current, total RAM usage 191.863 MiB\n"
     ]
    }
   ],
   "source": [
    "# Let's do a typical query in pandas and see how fast it can be\n",
    "t = %timeit -o lens.query(\"(title == 'Tom and Huck (1995)') & (rating == 5)\")['user_id']\n",
    "result = lens.query(\"(title == 'Tom and Huck (1995)') & (rating == 5)\")['user_id']\n",
    "result"
   ]
  },
  {
   "cell_type": "code",
   "execution_count": 13,
   "metadata": {
    "collapsed": false
   },
   "outputs": [
    {
     "name": "stdout",
     "output_type": "stream",
     "text": [
      "In [13] used 0.000 MiB RAM in 0.001s, peaked 0.000 MiB above current, total RAM usage 191.863 MiB\n"
     ]
    }
   ],
   "source": [
    "# Store it for future reference\n",
    "qtime_pandas = t.best"
   ]
  },
  {
   "cell_type": "markdown",
   "metadata": {},
   "source": [
    "## Use a compressed in-memory container via `bcolz`"
   ]
  },
  {
   "cell_type": "code",
   "execution_count": 14,
   "metadata": {
    "collapsed": false,
    "scrolled": true
   },
   "outputs": [
    {
     "name": "stdout",
     "output_type": "stream",
     "text": [
      "-=-=-=-=-=-=-=-=-=-=-=-=-=-=-=-=-=-=-=-=-=-=-=-=-=-=-=-=-=-=-=-=-=-=-=-=-=-=\n",
      "bcolz version:     1.0.0\n",
      "NumPy version:     1.11.1\n",
      "Blosc version:     1.8.1 ($Date:: 2016-04-08 #$)\n",
      "Blosc compressors: ['blosclz', 'lz4', 'lz4hc', 'snappy', 'zlib']\n",
      "Numexpr version:   2.6.1\n",
      "Python version:    3.5.2 |Continuum Analytics, Inc.| (default, Jul  2 2016, 17:53:06) \n",
      "[GCC 4.4.7 20120313 (Red Hat 4.4.7-1)]\n",
      "Platform:          linux-x86_64\n",
      "Byte-ordering:     little\n",
      "Detected cores:    8\n",
      "-=-=-=-=-=-=-=-=-=-=-=-=-=-=-=-=-=-=-=-=-=-=-=-=-=-=-=-=-=-=-=-=-=-=-=-=-=-=\n"
     ]
    },
    {
     "data": {
      "text/plain": [
       "8"
      ]
     },
     "execution_count": 14,
     "metadata": {},
     "output_type": "execute_result"
    },
    {
     "name": "stdout",
     "output_type": "stream",
     "text": [
      "In [14] used 5.789 MiB RAM in 0.057s, peaked 0.000 MiB above current, total RAM usage 197.652 MiB\n"
     ]
    }
   ],
   "source": [
    "import bcolz\n",
    "bcolz.print_versions()\n",
    "bcolz.defaults.cparams['cname'] = 'lz4'\n",
    "bcolz.defaults.cparams['clevel'] = 9\n",
    "bcolz.defaults.cparams['shuffle'] = bcolz.BITSHUFFLE  # try with NOSHUFFLE and BITSHUFFLE as well\n",
    "bcolz.set_nthreads(1)"
   ]
  },
  {
   "cell_type": "code",
   "execution_count": 15,
   "metadata": {
    "collapsed": false
   },
   "outputs": [
    {
     "name": "stdout",
     "output_type": "stream",
     "text": [
      "In [15] used 0.664 MiB RAM in 0.276s, peaked 78.207 MiB above current, total RAM usage 198.316 MiB\n"
     ]
    }
   ],
   "source": [
    "zlens = bcolz.ctable.fromdataframe(lens)"
   ]
  },
  {
   "cell_type": "code",
   "execution_count": 16,
   "metadata": {
    "collapsed": false
   },
   "outputs": [
    {
     "data": {
      "text/plain": [
       "ctable((1000209,), [('movie_id', '<i8'), ('title', 'S82'), ('genres', 'S47'), ('user_id', '<i8'), ('rating', '<i8'), ('unix_timestamp', '<i8')])\n",
       "  nbytes: 153.57 MB; cbytes: 7.30 MB; ratio: 21.04\n",
       "  cparams := cparams(clevel=9, shuffle=2, cname='lz4')\n",
       "[(1, b'Toy Story (1995)', b\"Animation|Children's|Comedy\", 1, 5, 978824268)\n",
       " (1, b'Toy Story (1995)', b\"Animation|Children's|Comedy\", 6, 4, 978237008)\n",
       " (1, b'Toy Story (1995)', b\"Animation|Children's|Comedy\", 8, 4, 978233496)\n",
       " ...,\n",
       " (3952, b'Contender, The (2000)', b'Drama|Thriller', 5837, 4, 1011902656)\n",
       " (3952, b'Contender, The (2000)', b'Drama|Thriller', 5927, 1, 979852537)\n",
       " (3952, b'Contender, The (2000)', b'Drama|Thriller', 5998, 4, 1001781044)]"
      ]
     },
     "execution_count": 16,
     "metadata": {},
     "output_type": "execute_result"
    },
    {
     "name": "stdout",
     "output_type": "stream",
     "text": [
      "In [16] used 0.000 MiB RAM in 0.005s, peaked 0.000 MiB above current, total RAM usage 198.316 MiB\n"
     ]
    }
   ],
   "source": [
    "zlens"
   ]
  },
  {
   "cell_type": "markdown",
   "metadata": {},
   "source": [
    "We can see that the space taken by a bcolz container is around 20x smaller (!) than a pandas one."
   ]
  },
  {
   "cell_type": "code",
   "execution_count": 17,
   "metadata": {
    "collapsed": false
   },
   "outputs": [
    {
     "data": {
      "text/plain": [
       "0.0"
      ]
     },
     "execution_count": 17,
     "metadata": {},
     "output_type": "execute_result"
    },
    {
     "name": "stdout",
     "output_type": "stream",
     "text": [
      "In [17] used 0.078 MiB RAM in 0.002s, peaked 0.000 MiB above current, total RAM usage 198.395 MiB\n"
     ]
    }
   ],
   "source": [
    "size_bcolz = mw.measurements.memory_delta\n",
    "size_bcolz"
   ]
  },
  {
   "cell_type": "markdown",
   "metadata": {},
   "source": [
    "We see that the reported memory consumption is *really* low, so let's take the internal estimation for comparison purposes."
   ]
  },
  {
   "cell_type": "code",
   "execution_count": 18,
   "metadata": {
    "collapsed": false
   },
   "outputs": [
    {
     "data": {
      "text/plain": [
       "ctable((1000209,), [('movie_id', '<i8'), ('title', 'S82'), ('genres', 'S47'), ('user_id', '<i8'), ('rating', '<i8'), ('unix_timestamp', '<i8')])\n",
       "  nbytes: 153.57 MB; cbytes: 7.30 MB; ratio: 21.04\n",
       "  cparams := cparams(clevel=9, shuffle=2, cname='lz4')\n",
       "[(1, b'Toy Story (1995)', b\"Animation|Children's|Comedy\", 1, 5, 978824268)\n",
       " (1, b'Toy Story (1995)', b\"Animation|Children's|Comedy\", 6, 4, 978237008)\n",
       " (1, b'Toy Story (1995)', b\"Animation|Children's|Comedy\", 8, 4, 978233496)\n",
       " ...,\n",
       " (3952, b'Contender, The (2000)', b'Drama|Thriller', 5837, 4, 1011902656)\n",
       " (3952, b'Contender, The (2000)', b'Drama|Thriller', 5927, 1, 979852537)\n",
       " (3952, b'Contender, The (2000)', b'Drama|Thriller', 5998, 4, 1001781044)]"
      ]
     },
     "execution_count": 18,
     "metadata": {},
     "output_type": "execute_result"
    },
    {
     "name": "stdout",
     "output_type": "stream",
     "text": [
      "In [18] used 0.000 MiB RAM in 0.003s, peaked 0.000 MiB above current, total RAM usage 198.395 MiB\n"
     ]
    }
   ],
   "source": [
    "zlens"
   ]
  },
  {
   "cell_type": "code",
   "execution_count": 19,
   "metadata": {
    "collapsed": false
   },
   "outputs": [
    {
     "name": "stdout",
     "output_type": "stream",
     "text": [
      "In [19] used 0.000 MiB RAM in 0.001s, peaked 0.000 MiB above current, total RAM usage 198.395 MiB\n"
     ]
    }
   ],
   "source": [
    "size_bcolz2 = zlens.cbytes / 2**20."
   ]
  },
  {
   "cell_type": "code",
   "execution_count": 20,
   "metadata": {
    "collapsed": false
   },
   "outputs": [
    {
     "data": {
      "text/plain": [
       "25.092422540077553"
      ]
     },
     "execution_count": 20,
     "metadata": {},
     "output_type": "execute_result"
    },
    {
     "name": "stdout",
     "output_type": "stream",
     "text": [
      "In [20] used 0.000 MiB RAM in 0.002s, peaked 0.000 MiB above current, total RAM usage 198.395 MiB\n"
     ]
    }
   ],
   "source": [
    "size_pandas2 / size_bcolz2"
   ]
  },
  {
   "cell_type": "markdown",
   "metadata": {},
   "source": [
    "## Querying a bcolz ctable"
   ]
  },
  {
   "cell_type": "code",
   "execution_count": 21,
   "metadata": {
    "collapsed": false
   },
   "outputs": [
    {
     "name": "stdout",
     "output_type": "stream",
     "text": [
      "In [21] used 78.223 MiB RAM in 0.067s, peaked 0.324 MiB above current, total RAM usage 276.617 MiB\n"
     ]
    }
   ],
   "source": [
    "# Workaround to use bytes instead of Unicode (not supported yet in numexpr queries)\n",
    "title = zlens['title'][:].astype('S82')\n",
    "zlens.delcol('title')\n",
    "zlens.addcol(title, 'title')"
   ]
  },
  {
   "cell_type": "code",
   "execution_count": 22,
   "metadata": {
    "collapsed": false
   },
   "outputs": [
    {
     "name": "stdout",
     "output_type": "stream",
     "text": [
      "In [22] used 44.836 MiB RAM in 0.042s, peaked 0.164 MiB above current, total RAM usage 321.453 MiB\n"
     ]
    }
   ],
   "source": [
    "# Workaround to use bytes instead of Unicode (not supported yet in numexpr queries)\n",
    "genre = zlens['genres'][:].astype('S47')\n",
    "zlens.delcol('genres')\n",
    "zlens.addcol(genre, 'genres')"
   ]
  },
  {
   "cell_type": "code",
   "execution_count": 23,
   "metadata": {
    "collapsed": false
   },
   "outputs": [
    {
     "name": "stdout",
     "output_type": "stream",
     "text": [
      "10 loops, best of 3: 31.9 ms per loop\n",
      "In [23] used 0.191 MiB RAM in 1.346s, peaked 0.000 MiB above current, total RAM usage 321.645 MiB\n"
     ]
    }
   ],
   "source": [
    "# Querying a bcolz dataset\n",
    "resultz = [(r.nrow__, r.user_id) for r in zlens.where(\"(title == b'Tom and Huck (1995)') & (rating == 5)\", outcols=['nrow__', 'user_id'])]\n",
    "t = %timeit -o [(r.nrow__, r.user_id) for r in zlens.where(\"(title == b'Tom and Huck (1995)') & (rating == 5)\", outcols=['nrow__', 'user_id'])]"
   ]
  },
  {
   "cell_type": "code",
   "execution_count": 24,
   "metadata": {
    "collapsed": false
   },
   "outputs": [
    {
     "name": "stdout",
     "output_type": "stream",
     "text": [
      "In [24] used 0.000 MiB RAM in 0.000s, peaked 0.000 MiB above current, total RAM usage 321.645 MiB\n"
     ]
    }
   ],
   "source": [
    "qtime_bcolz = t.best"
   ]
  },
  {
   "cell_type": "code",
   "execution_count": 25,
   "metadata": {
    "collapsed": false
   },
   "outputs": [
    {
     "data": {
      "text/plain": [
       "1.0386095038873533"
      ]
     },
     "execution_count": 25,
     "metadata": {},
     "output_type": "execute_result"
    },
    {
     "name": "stdout",
     "output_type": "stream",
     "text": [
      "In [25] used 0.000 MiB RAM in 0.002s, peaked 0.000 MiB above current, total RAM usage 321.645 MiB\n"
     ]
    }
   ],
   "source": [
    "qtime_pandas / qtime_bcolz"
   ]
  },
  {
   "cell_type": "markdown",
   "metadata": {},
   "source": [
    "We see that by using a compressed bcolz container, it provides similar query times than pandas."
   ]
  },
  {
   "cell_type": "code",
   "execution_count": 26,
   "metadata": {
    "collapsed": false
   },
   "outputs": [
    {
     "name": "stdout",
     "output_type": "stream",
     "text": [
      "results with pandas Dataframe: 5121      75\n",
      "5164    3842\n",
      "5187    6031\n",
      "Name: user_id, dtype: int64\n",
      "results with bcolz ctable: [(5121, 75), (5164, 3842), (5187, 6031)]\n",
      "In [26] used 0.074 MiB RAM in 0.002s, peaked 0.000 MiB above current, total RAM usage 321.719 MiB\n"
     ]
    }
   ],
   "source": [
    "# Sanity check (always check for your results!)\n",
    "print(\"results with pandas Dataframe:\", result)\n",
    "print(\"results with bcolz ctable:\", resultz)"
   ]
  },
  {
   "cell_type": "markdown",
   "metadata": {},
   "source": [
    "## Use a *uncompressed* in-memory container via `bcolz`"
   ]
  },
  {
   "cell_type": "markdown",
   "metadata": {},
   "source": [
    "So, what happens when we use an uncompressed container in bcolz?  We do expect better speed?  If so, how much?  Let's measure:"
   ]
  },
  {
   "cell_type": "code",
   "execution_count": 27,
   "metadata": {
    "collapsed": false,
    "scrolled": true
   },
   "outputs": [
    {
     "name": "stdout",
     "output_type": "stream",
     "text": [
      "In [27] used 0.000 MiB RAM in 0.001s, peaked 0.000 MiB above current, total RAM usage 321.719 MiB\n"
     ]
    }
   ],
   "source": [
    "bcolz.defaults.cparams['clevel'] = 0"
   ]
  },
  {
   "cell_type": "code",
   "execution_count": 28,
   "metadata": {
    "collapsed": false
   },
   "outputs": [
    {
     "data": {
      "text/plain": [
       "ctable((1000209,), [('movie_id', '<i8'), ('title', 'S82'), ('genres', 'S47'), ('user_id', '<i8'), ('rating', '<i8'), ('unix_timestamp', '<i8')])\n",
       "  nbytes: 153.57 MB; cbytes: 154.54 MB; ratio: 0.99\n",
       "  cparams := cparams(clevel=0, shuffle=2, cname='lz4')\n",
       "[(1, b'Toy Story (1995)', b\"Animation|Children's|Comedy\", 1, 5, 978824268)\n",
       " (1, b'Toy Story (1995)', b\"Animation|Children's|Comedy\", 6, 4, 978237008)\n",
       " (1, b'Toy Story (1995)', b\"Animation|Children's|Comedy\", 8, 4, 978233496)\n",
       " ...,\n",
       " (3952, b'Contender, The (2000)', b'Drama|Thriller', 5837, 4, 1011902656)\n",
       " (3952, b'Contender, The (2000)', b'Drama|Thriller', 5927, 1, 979852537)\n",
       " (3952, b'Contender, The (2000)', b'Drama|Thriller', 5998, 4, 1001781044)]"
      ]
     },
     "execution_count": 28,
     "metadata": {},
     "output_type": "execute_result"
    },
    {
     "name": "stdout",
     "output_type": "stream",
     "text": [
      "In [28] used 262.293 MiB RAM in 0.197s, peaked 0.000 MiB above current, total RAM usage 584.012 MiB\n"
     ]
    }
   ],
   "source": [
    "uzlens = bcolz.ctable.fromdataframe(lens)\n",
    "uzlens"
   ]
  },
  {
   "cell_type": "code",
   "execution_count": 29,
   "metadata": {
    "collapsed": false
   },
   "outputs": [
    {
     "data": {
      "text/plain": [
       "262.29296875"
      ]
     },
     "execution_count": 29,
     "metadata": {},
     "output_type": "execute_result"
    },
    {
     "name": "stdout",
     "output_type": "stream",
     "text": [
      "In [29] used 0.000 MiB RAM in 0.002s, peaked 0.000 MiB above current, total RAM usage 584.012 MiB\n"
     ]
    }
   ],
   "source": [
    "size_ubcolz = mw.measurements.memory_delta\n",
    "size_ubcolz"
   ]
  },
  {
   "cell_type": "code",
   "execution_count": 30,
   "metadata": {
    "collapsed": false
   },
   "outputs": [
    {
     "data": {
      "text/plain": [
       "154.54058456420898"
      ]
     },
     "execution_count": 30,
     "metadata": {},
     "output_type": "execute_result"
    },
    {
     "name": "stdout",
     "output_type": "stream",
     "text": [
      "In [30] used 0.000 MiB RAM in 0.002s, peaked 0.000 MiB above current, total RAM usage 584.012 MiB\n"
     ]
    }
   ],
   "source": [
    "size_ubcolz2 = uzlens.cbytes / 2**20.\n",
    "size_ubcolz2"
   ]
  },
  {
   "cell_type": "code",
   "execution_count": 31,
   "metadata": {
    "collapsed": false
   },
   "outputs": [
    {
     "data": {
      "text/plain": [
       "1.1849652732789266"
      ]
     },
     "execution_count": 31,
     "metadata": {},
     "output_type": "execute_result"
    },
    {
     "name": "stdout",
     "output_type": "stream",
     "text": [
      "In [31] used 0.000 MiB RAM in 0.002s, peaked 0.000 MiB above current, total RAM usage 584.012 MiB\n"
     ]
    }
   ],
   "source": [
    "size_pandas2 / size_ubcolz2"
   ]
  },
  {
   "cell_type": "markdown",
   "metadata": {},
   "source": [
    "We can see that the space taken by an uncompressed bcolz container is very close to a pandas one (but keep an eye on the reported memory usage by memory_watcher)."
   ]
  },
  {
   "cell_type": "code",
   "execution_count": 32,
   "metadata": {
    "collapsed": false
   },
   "outputs": [
    {
     "name": "stdout",
     "output_type": "stream",
     "text": [
      "In [32] used 0.336 MiB RAM in 0.045s, peaked 78.602 MiB above current, total RAM usage 584.348 MiB\n"
     ]
    }
   ],
   "source": [
    "# Workaround to use bytes instead of Unicode (not supported yet in numexpr queries)\n",
    "title = zlens['title'][:].astype('S82')\n",
    "uzlens.delcol('title')\n",
    "uzlens.addcol(title, 'title')"
   ]
  },
  {
   "cell_type": "code",
   "execution_count": 33,
   "metadata": {
    "collapsed": false
   },
   "outputs": [
    {
     "name": "stdout",
     "output_type": "stream",
     "text": [
      "100 loops, best of 3: 12.9 ms per loop\n",
      "In [33] used 1.043 MiB RAM in 5.367s, peaked 0.000 MiB above current, total RAM usage 585.391 MiB\n"
     ]
    }
   ],
   "source": [
    "# Querying a bcolz dataset\n",
    "resultz = [(r.nrow__, r.user_id) for r in uzlens.where(\"(title == b'Tom and Huck (1995)') & (rating == 5)\", outcols=['nrow__', 'user_id'])]\n",
    "t = %timeit -o [(r.nrow__, r.user_id) for r in uzlens.where(\"(title == b'Tom and Huck (1995)') & (rating == 5)\", outcols=['nrow__', 'user_id'])]"
   ]
  },
  {
   "cell_type": "code",
   "execution_count": 34,
   "metadata": {
    "collapsed": false
   },
   "outputs": [
    {
     "name": "stdout",
     "output_type": "stream",
     "text": [
      "In [34] used 0.000 MiB RAM in 0.001s, peaked 0.000 MiB above current, total RAM usage 585.391 MiB\n"
     ]
    }
   ],
   "source": [
    "qtime_ubcolz = t.best"
   ]
  },
  {
   "cell_type": "code",
   "execution_count": 35,
   "metadata": {
    "collapsed": false
   },
   "outputs": [
    {
     "data": {
      "text/plain": [
       "2.5621266523483928"
      ]
     },
     "execution_count": 35,
     "metadata": {},
     "output_type": "execute_result"
    },
    {
     "name": "stdout",
     "output_type": "stream",
     "text": [
      "In [35] used 0.008 MiB RAM in 0.002s, peaked 0.000 MiB above current, total RAM usage 585.398 MiB\n"
     ]
    }
   ],
   "source": [
    "qtime_pandas / qtime_ubcolz"
   ]
  },
  {
   "cell_type": "markdown",
   "metadata": {
    "collapsed": true
   },
   "source": [
    "## Using structured NumPy arrays"
   ]
  },
  {
   "cell_type": "code",
   "execution_count": 36,
   "metadata": {
    "collapsed": false
   },
   "outputs": [
    {
     "name": "stdout",
     "output_type": "stream",
     "text": [
      "In [36] used 153.492 MiB RAM in 0.133s, peaked 0.000 MiB above current, total RAM usage 738.891 MiB\n"
     ]
    }
   ],
   "source": [
    "nalens = zlens[:]"
   ]
  },
  {
   "cell_type": "code",
   "execution_count": 37,
   "metadata": {
    "collapsed": false
   },
   "outputs": [
    {
     "data": {
      "text/plain": [
       "153.4921875"
      ]
     },
     "execution_count": 37,
     "metadata": {},
     "output_type": "execute_result"
    },
    {
     "name": "stdout",
     "output_type": "stream",
     "text": [
      "In [37] used 0.000 MiB RAM in 0.002s, peaked 0.000 MiB above current, total RAM usage 738.891 MiB\n"
     ]
    }
   ],
   "source": [
    "size_numpy = mw.measurements.memory_delta\n",
    "size_numpy"
   ]
  },
  {
   "cell_type": "code",
   "execution_count": 38,
   "metadata": {
    "collapsed": false
   },
   "outputs": [
    {
     "data": {
      "text/plain": [
       "array([(1, 1, 5, 978824268, b'Toy Story (1995)', b\"Animation|Children's|Comedy\"),\n",
       "       (1, 6, 4, 978237008, b'Toy Story (1995)', b\"Animation|Children's|Comedy\"),\n",
       "       (1, 8, 4, 978233496, b'Toy Story (1995)', b\"Animation|Children's|Comedy\"),\n",
       "       ...,\n",
       "       (3952, 5837, 4, 1011902656, b'Contender, The (2000)', b'Drama|Thriller'),\n",
       "       (3952, 5927, 1, 979852537, b'Contender, The (2000)', b'Drama|Thriller'),\n",
       "       (3952, 5998, 4, 1001781044, b'Contender, The (2000)', b'Drama|Thriller')], \n",
       "      dtype=[('movie_id', '<i8'), ('user_id', '<i8'), ('rating', '<i8'), ('unix_timestamp', '<i8'), ('title', 'S82'), ('genres', 'S47')])"
      ]
     },
     "execution_count": 38,
     "metadata": {},
     "output_type": "execute_result"
    },
    {
     "name": "stdout",
     "output_type": "stream",
     "text": [
      "In [38] used 0.016 MiB RAM in 0.002s, peaked 0.000 MiB above current, total RAM usage 738.906 MiB\n"
     ]
    }
   ],
   "source": [
    "nalens"
   ]
  },
  {
   "cell_type": "code",
   "execution_count": 39,
   "metadata": {
    "collapsed": false
   },
   "outputs": [
    {
     "data": {
      "text/plain": [
       "153.574"
      ]
     },
     "execution_count": 39,
     "metadata": {},
     "output_type": "execute_result"
    },
    {
     "name": "stdout",
     "output_type": "stream",
     "text": [
      "In [39] used 0.000 MiB RAM in 0.002s, peaked 0.000 MiB above current, total RAM usage 738.906 MiB\n"
     ]
    }
   ],
   "source": [
    "size_numpy2 = round((nalens.size * nalens.dtype.itemsize) / 2**20., 3)\n",
    "size_numpy2"
   ]
  },
  {
   "cell_type": "code",
   "execution_count": 40,
   "metadata": {
    "collapsed": false
   },
   "outputs": [
    {
     "data": {
      "text/plain": [
       "301.574"
      ]
     },
     "execution_count": 40,
     "metadata": {},
     "output_type": "execute_result"
    },
    {
     "name": "stdout",
     "output_type": "stream",
     "text": [
      "In [40] used 0.000 MiB RAM in 0.638s, peaked 0.000 MiB above current, total RAM usage 738.906 MiB\n"
     ]
    }
   ],
   "source": [
    "# But, again, this does not account for 'O'bject dtypes, which are stored in its own storage area\n",
    "# So, let's take this into account\n",
    "import sys\n",
    "size_numpy3 = size_numpy2 + round(sum(sum(sys.getsizeof(o) for o in nalens[col]) for col in ('title', 'genres')) // 2**20., 3)\n",
    "size_numpy3"
   ]
  },
  {
   "cell_type": "code",
   "execution_count": 41,
   "metadata": {
    "collapsed": false
   },
   "outputs": [
    {
     "name": "stdout",
     "output_type": "stream",
     "text": [
      "100 loops, best of 3: 8.78 ms per loop\n"
     ]
    },
    {
     "data": {
      "text/plain": [
       "array([], \n",
       "      dtype=[('movie_id', '<i8'), ('user_id', '<i8'), ('rating', '<i8'), ('unix_timestamp', '<i8'), ('title', 'S82'), ('genres', 'S47')])"
      ]
     },
     "execution_count": 41,
     "metadata": {},
     "output_type": "execute_result"
    },
    {
     "name": "stdout",
     "output_type": "stream",
     "text": [
      "In [41] used 0.156 MiB RAM in 3.635s, peaked 0.000 MiB above current, total RAM usage 739.062 MiB\n"
     ]
    }
   ],
   "source": [
    "resultna = nalens[(nalens['title'] == 'Tom and Huck (1995)') & (nalens['rating'] == 5)]\n",
    "t = %timeit -o nalens[(nalens['title'] == 'Tom and Huck (1995)') & (nalens['rating'] == 5)]\n",
    "resultna"
   ]
  },
  {
   "cell_type": "markdown",
   "metadata": {},
   "source": [
    "Again, NumPy works the fastest for in-memory data containers, while memory consumption is close to pandas (a hair less actually)."
   ]
  },
  {
   "cell_type": "code",
   "execution_count": 42,
   "metadata": {
    "collapsed": false
   },
   "outputs": [
    {
     "name": "stdout",
     "output_type": "stream",
     "text": [
      "In [42] used 0.000 MiB RAM in 0.001s, peaked 0.000 MiB above current, total RAM usage 739.062 MiB\n"
     ]
    }
   ],
   "source": [
    "qtime_numpy = t.best"
   ]
  },
  {
   "cell_type": "markdown",
   "metadata": {},
   "source": [
    "## Performance comparsion"
   ]
  },
  {
   "cell_type": "code",
   "execution_count": 43,
   "metadata": {
    "collapsed": false,
    "scrolled": true
   },
   "outputs": [
    {
     "name": "stdout",
     "output_type": "stream",
     "text": [
      "In [43] used 3.531 MiB RAM in 0.071s, peaked 0.000 MiB above current, total RAM usage 742.594 MiB\n"
     ]
    }
   ],
   "source": [
    "%matplotlib inline\n",
    "import matplotlib.pyplot as plt\n",
    "plt.style.use('ggplot')"
   ]
  },
  {
   "cell_type": "code",
   "execution_count": 44,
   "metadata": {
    "collapsed": false,
    "scrolled": false
   },
   "outputs": [
    {
     "data": {
      "text/plain": [
       "<matplotlib.axes._subplots.AxesSubplot at 0x7fdbc49566d8>"
      ]
     },
     "execution_count": 44,
     "metadata": {},
     "output_type": "execute_result"
    },
    {
     "data": {
      "image/png": "[encoded data removed]",
      "text/plain": [
       "<matplotlib.figure.Figure at 0x7fdbc4948d30>"
      ]
     },
     "metadata": {},
     "output_type": "display_data"
    },
    {
     "name": "stdout",
     "output_type": "stream",
     "text": [
      "In [44] used 5.645 MiB RAM in 0.185s, peaked 0.000 MiB above current, total RAM usage 748.238 MiB\n"
     ]
    }
   ],
   "source": [
    "# Query times\n",
    "labels = [\"pandas\", \"bcolz\", \"uncompressed bcolz\", \"numpy (recarray)\"]\n",
    "df = pd.DataFrame({'time (sec)': [qtime_pandas, qtime_bcolz, qtime_ubcolz, qtime_numpy]}, index=labels)\n",
    "df.plot(kind='barh', figsize=(12,5), fontsize=16, title=\"Query times for MovieLens 1m (in-memory)\")"
   ]
  },
  {
   "cell_type": "markdown",
   "metadata": {},
   "source": [
    "## Size comparison"
   ]
  },
  {
   "cell_type": "code",
   "execution_count": 45,
   "metadata": {
    "collapsed": false,
    "scrolled": false
   },
   "outputs": [
    {
     "data": {
      "text/plain": [
       "<matplotlib.axes._subplots.AxesSubplot at 0x7fdbc3f05550>"
      ]
     },
     "execution_count": 45,
     "metadata": {},
     "output_type": "execute_result"
    },
    {
     "data": {
      "image/png": "[encoded data removed]",
      "text/plain": [
       "<matplotlib.figure.Figure at 0x7fdbc3e818d0>"
      ]
     },
     "metadata": {},
     "output_type": "display_data"
    },
    {
     "name": "stdout",
     "output_type": "stream",
     "text": [
      "In [45] used 0.578 MiB RAM in 0.178s, peaked 0.000 MiB above current, total RAM usage 748.816 MiB\n"
     ]
    }
   ],
   "source": [
    "# Container sizes\n",
    "df = pd.DataFrame({'size (MB)': [size_pandas2, size_bcolz2, size_ubcolz2, size_numpy3]}, index=labels)\n",
    "df.plot(kind='barh', figsize=(12,5), fontsize=16, title=\"Container sizes for MovieLens 1m\")"
   ]
  },
  {
   "cell_type": "markdown",
   "metadata": {},
   "source": [
    "## Rules of thumb for querying in-memory tabular datasets\n",
    "\n",
    "* Choose pure NumPy recarrays if you need the fastest speed\n",
    "* Choose bcolz ctables if you need to store lots of data in limited memory and not want to loose too much speed\n",
    "* Choose pandas if what you need is rich functionality on top of your containers (at the penalty of some speed)"
   ]
  }
 ],
 "metadata": {
  "anaconda-cloud": {},
  "kernelspec": {
   "display_name": "Python 3",
   "language": "python",
   "name": "python3"
  },
  "language_info": {
   "codemirror_mode": {
    "name": "ipython",
    "version": 3
   },
   "file_extension": ".py",
   "mimetype": "text/x-python",
   "name": "python",
   "nbconvert_exporter": "python",
   "pygments_lexer": "ipython3",
   "version": "3.5.2"
  }
 },
 "nbformat": 4,
 "nbformat_minor": 0
}
