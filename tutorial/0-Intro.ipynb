{
 "cells": [
  {
   "cell_type": "markdown",
   "metadata": {},
   "source": [
    "# Using Data Containers With Python"
   ]
  },
  {
   "cell_type": "markdown",
   "metadata": {},
   "source": [
    "Data containers (or data structures) are an extremely important subject in data science in terms of both:\n",
    "\n",
    "1. Performance\n",
    "2. Storage capacity required\n",
    "\n",
    "During this tutorial you will learn how to do measurements on the parameters above on a variety of data containers in Python.  Another goal is to get insights on which situation you should be using one data container or another."
   ]
  },
  {
   "cell_type": "markdown",
   "metadata": {},
   "source": [
    "## Caveats for following the tutorial:\n",
    "\n",
    "1. These notebooks have been created and tested mainly on Jupyter notebook and Python 3.5, but Python 3.4 or larger should work equally fine, except for some profile utilities which will be seldom used.\n",
    "\n",
    "2. You can follow the tutorial by re-playing the [provided notebooks](https://github.com/ASPP/DataContainers).\n",
    "\n",
    "3. **In case** you cannot reproduce the desired results in your own laptop, do not worry too much; my advice is that you just concentrate in tutor's explanations and ask in case something is not clear enough."
   ]
  },
  {
   "cell_type": "markdown",
   "metadata": {},
   "source": [
    "## Requisites\n",
    "\n",
    "* IPython notebook (aka Jupyter)\n",
    "* NumPy\n",
    "* pandas\n",
    "* numexpr\n",
    "* tables (aka PyTables in Anaconda)\n",
    "* bcolz\n",
    "* psutil\n",
    "* memory_profiler\n",
    "* ipython_memwatcher\n",
    "\n",
    "These are all in Anaconda (bar ipython_memwatcher) or in PyPI repo."
   ]
  },
  {
   "cell_type": "markdown",
   "metadata": {},
   "source": [
    "## Contents"
   ]
  },
  {
   "cell_type": "markdown",
   "metadata": {},
   "source": [
    "1. [Memory Profilers](1-Memory-Profilers.ipynb)\n",
    "2. [A Tale of a Reduction](2-A-Reduction-Tale.ipynb)\n",
    "3. [In-Memory Tables](3-In-Memory-Tables.ipynb)\n",
    "4. [On-Disk Tables](4-On-Disk-Tables.ipynb)"
   ]
  }
 ],
 "metadata": {
  "kernelspec": {
   "display_name": "Python 3",
   "language": "python",
   "name": "python3"
  },
  "language_info": {
   "codemirror_mode": {
    "name": "ipython",
    "version": 3
   },
   "file_extension": ".py",
   "mimetype": "text/x-python",
   "name": "python",
   "nbconvert_exporter": "python",
   "pygments_lexer": "ipython3",
   "version": "3.5.2"
  }
 },
 "nbformat": 4,
 "nbformat_minor": 0
}
